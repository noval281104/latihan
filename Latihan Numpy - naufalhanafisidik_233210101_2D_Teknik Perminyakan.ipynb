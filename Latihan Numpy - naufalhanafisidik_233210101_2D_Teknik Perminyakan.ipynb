{
 "cells": [
  {
   "cell_type": "markdown",
   "metadata": {},
   "source": [
    "# No 1"
   ]
  },
  {
   "cell_type": "code",
   "execution_count": 2,
   "metadata": {},
   "outputs": [
    {
     "name": "stdout",
     "output_type": "stream",
     "text": [
      "[[18 16]\n",
      " [ 0  5]\n",
      " [ 0  0]]\n"
     ]
    }
   ],
   "source": [
    "# Perkalian Matrix\n",
    "# TTL   : 28 november 2004  \n",
    "# No Hp : 082287920590\n",
    "\n",
    "import numpy as np\n",
    "\n",
    "A = np.array([[2,8],[1,1],[0,4]])\n",
    "B = np.array([[9,2],[0,5],[9,0]])\n",
    "\n",
    "kali = A * B\n",
    "print(kali)"
   ]
  },
  {
   "cell_type": "markdown",
   "metadata": {},
   "source": [
    "# No 2"
   ]
  },
  {
   "cell_type": "code",
   "execution_count": 3,
   "metadata": {},
   "outputs": [
    {
     "name": "stdout",
     "output_type": "stream",
     "text": [
      "[[-7  6]\n",
      " [ 1 -4]\n",
      " [-9  4]]\n"
     ]
    }
   ],
   "source": [
    "# Pengurangan Matrix\n",
    "\n",
    "import numpy as np\n",
    "\n",
    "A = np.array([[2,8],[1,1],[0,4]])\n",
    "B = np.array([[9,2],[0,5],[9,0]])\n",
    "\n",
    "kurang = A - B\n",
    "print(kurang)"
   ]
  },
  {
   "cell_type": "markdown",
   "metadata": {},
   "source": [
    "# No 3"
   ]
  },
  {
   "cell_type": "code",
   "execution_count": 4,
   "metadata": {},
   "outputs": [
    {
     "name": "stdout",
     "output_type": "stream",
     "text": [
      "[[2 1 0]\n",
      " [8 1 4]]\n",
      "[[9 0 9]\n",
      " [2 5 0]]\n"
     ]
    }
   ],
   "source": [
    "# Transpose Matrix\n",
    "\n",
    "import numpy as np\n",
    "\n",
    "A = np.array([[2,8],[1,1],[0,4]])\n",
    "B = np.array([[9,2],[0,5],[9,0]])\n",
    "\n",
    "transpose_A = np.transpose(A)\n",
    "transpose_B = np.transpose(B)\n",
    "\n",
    "print(transpose_A)\n",
    "print(transpose_B)"
   ]
  },
  {
   "cell_type": "markdown",
   "metadata": {},
   "source": [
    "# No 4"
   ]
  },
  {
   "cell_type": "code",
   "execution_count": 7,
   "metadata": {},
   "outputs": [
    {
     "name": "stdout",
     "output_type": "stream",
     "text": [
      "\n",
      "Invers matrix A :\n",
      "\n",
      "Invers matrix B :\n",
      "[[-0.16666667  1.33333333]\n",
      " [ 0.16666667 -0.33333333]]\n",
      "[[ 0.11111111 -0.04444444]\n",
      " [ 0.          0.2       ]]\n"
     ]
    }
   ],
   "source": [
    "# Nilai Invers\n",
    "\n",
    "import numpy as np\n",
    "\n",
    "A = np.array([[2,8],[1,1]])\n",
    "B = np.array([[9,2],[0,5]])\n",
    "\n",
    "\n",
    "invers_A = np.linalg.inv(A)\n",
    "invers_B = np.linalg.inv(B)\n",
    "\n",
    "print(\"\\nInvers matrix A :\")\n",
    "print(\"\\nInvers matrix B :\")\n",
    "print(invers_A)\n",
    "print(invers_B)\n"
   ]
  },
  {
   "cell_type": "markdown",
   "metadata": {},
   "source": [
    "# No 5"
   ]
  },
  {
   "cell_type": "code",
   "execution_count": 6,
   "metadata": {},
   "outputs": [
    {
     "name": "stdout",
     "output_type": "stream",
     "text": [
      "Determinan dari matrix A: -6.0\n",
      "Determinan dari matrix B: 44.99999999999999\n"
     ]
    }
   ],
   "source": [
    "# Nilai Determinan\n",
    "\n",
    "import numpy as np\n",
    "\n",
    "A = np.array([[2,8],[1,1]])\n",
    "B = np.array([[9,2],[0,5]])\n",
    "\n",
    "determinant_A = np.linalg.det(A)\n",
    "determinant_B = np.linalg.det(B)\n",
    "print(\"Determinan dari matrix A:\", determinant_A)\n",
    "print(\"Determinan dari matrix B:\", determinant_B)"
   ]
  },
  {
   "cell_type": "code",
   "execution_count": null,
   "metadata": {},
   "outputs": [],
   "source": []
  }
 ],
 "metadata": {
  "kernelspec": {
   "display_name": "Python 3",
   "language": "python",
   "name": "python3"
  },
  "language_info": {
   "codemirror_mode": {
    "name": "ipython",
    "version": 3
   },
   "file_extension": ".py",
   "mimetype": "text/x-python",
   "name": "python",
   "nbconvert_exporter": "python",
   "pygments_lexer": "ipython3",
   "version": "3.11.5"
  }
 },
 "nbformat": 4,
 "nbformat_minor": 2
}
